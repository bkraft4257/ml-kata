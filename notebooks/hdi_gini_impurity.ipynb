{
 "cells": [
  {
   "cell_type": "markdown",
   "metadata": {},
   "source": [
    "# Purpose "
   ]
  },
  {
   "cell_type": "markdown",
   "metadata": {},
   "source": [
    "This notebook explains Gini Impurity.  \n",
    "\n",
    "Gini Impurity measures the probability of misclassifying an observation.  Gini Impurity ranges from 0 (correctly classified 100% of the time) to 0.5 (correctly misclassified 50% of the time, which is equivalent to classifying the observaton purely by chance).  \n",
    "\n",
    "Gini Impurity measures how efficiently a node is split into two leafs in a decision tree.  When Gini Impurity is equal to 0 it means that the node classifies all of the observations into a single group. We can assume that the observations have been correctly classified.  If they are classified incorrectly 100% of the time we can just change the logic to properly classify the observations.  When Gini Impurity is equal to 0.5 then the node has been split equally and there is no information gained.\n",
    "\n",
    "The calculation for Gini Impurity is \n",
    "\n",
    "Gini Impurity = Sum( p(i)(1-p(i)) ) for all i\n",
    "\n",
    "where p is the probability that an observation is assigned to a particular category. \n",
    "\n",
    "For a binary classification\n",
    "\n",
    "p(1)(1-p(1)) + p(2)(1-p(2))\n",
    "p(1) - p(1)^2 + p(2) - p(2)^2\n",
    "\n",
    "p(1) + p(2) - p(1)^2 - p(2)^2\n",
    "\n",
    "1  - p(1)^2 - p(2)^2"
   ]
  },
  {
   "cell_type": "markdown",
   "metadata": {},
   "source": [
    "# References"
   ]
  },
  {
   "cell_type": "markdown",
   "metadata": {},
   "source": [
    "https://www.youtube.com/watch?v=7VeUPuFGJHk\n",
    "\n",
    "https://bambielli.com/til/2017-10-29-gini-impurity/\n",
    "\n",
    "https://towardsdatascience.com/gini-impurity-measure-dbd3878ead33"
   ]
  },
  {
   "cell_type": "markdown",
   "metadata": {},
   "source": [
    "# Initialization"
   ]
  },
  {
   "cell_type": "code",
   "execution_count": 2,
   "metadata": {},
   "outputs": [
    {
     "data": {
      "text/html": [
       "<style>.container { width:80% !important; }</style>"
      ],
      "text/plain": [
       "<IPython.core.display.HTML object>"
      ]
     },
     "metadata": {},
     "output_type": "display_data"
    }
   ],
   "source": [
    "%matplotlib inline\n",
    "\n",
    "import os\n",
    "from pathlib import Path\n",
    "import numpy as np\n",
    "import datetime\n",
    "\n",
    "import pandas as pd\n",
    "pd.set_option(\"display.max_rows\",10)\n",
    "\n",
    "# IPython\n",
    "\n",
    "from IPython.display import display, Markdown\n",
    "from IPython.display import Image\n",
    "\n",
    "from IPython.core.interactiveshell import InteractiveShell\n",
    "InteractiveShell.ast_node_interactivity = \"all\"\n",
    "\n",
    "# http://stackoverflow.com/questions/21971449/how-do-i-increase-the-cell-width-of-the-jupyter-ipython-notebook-in-my-browser\n",
    "from IPython.core.display import display, HTML\n",
    "display(HTML(\"<style>.container { width:80% !important; }</style>\"))\n",
    "\n",
    "\n",
    "# Autoload Python Code\n",
    "%load_ext autoreload\n",
    "%autoreload 2"
   ]
  },
  {
   "cell_type": "markdown",
   "metadata": {},
   "source": [
    "# Definitions"
   ]
  },
  {
   "cell_type": "markdown",
   "metadata": {},
   "source": [
    "# Gini Impurity for Chest Pain"
   ]
  },
  {
   "cell_type": "markdown",
   "metadata": {},
   "source": [
    "**Create data to match StatQuest Example**"
   ]
  },
  {
   "cell_type": "code",
   "execution_count": 275,
   "metadata": {},
   "outputs": [
    {
     "data": {
      "text/html": [
       "<div>\n",
       "<style scoped>\n",
       "    .dataframe tbody tr th:only-of-type {\n",
       "        vertical-align: middle;\n",
       "    }\n",
       "\n",
       "    .dataframe tbody tr th {\n",
       "        vertical-align: top;\n",
       "    }\n",
       "\n",
       "    .dataframe thead th {\n",
       "        text-align: right;\n",
       "    }\n",
       "</style>\n",
       "<table border=\"1\" class=\"dataframe\">\n",
       "  <thead>\n",
       "    <tr style=\"text-align: right;\">\n",
       "      <th>Heart Disease</th>\n",
       "      <th>0</th>\n",
       "      <th>1</th>\n",
       "    </tr>\n",
       "    <tr>\n",
       "      <th>Chest Pains</th>\n",
       "      <th></th>\n",
       "      <th></th>\n",
       "    </tr>\n",
       "  </thead>\n",
       "  <tbody>\n",
       "    <tr>\n",
       "      <th>0</th>\n",
       "      <td>125</td>\n",
       "      <td>34</td>\n",
       "    </tr>\n",
       "    <tr>\n",
       "      <th>1</th>\n",
       "      <td>39</td>\n",
       "      <td>105</td>\n",
       "    </tr>\n",
       "  </tbody>\n",
       "</table>\n",
       "</div>"
      ],
      "text/plain": [
       "Heart Disease    0    1\n",
       "Chest Pains            \n",
       "0              125   34\n",
       "1               39  105"
      ]
     },
     "execution_count": 275,
     "metadata": {},
     "output_type": "execute_result"
    }
   ],
   "source": [
    "node = 'Chest Pains'\n",
    "\n",
    "data_chest_pains = pd.concat( [pd.DataFrame(data={'Heart Disease': [1]*105 + [0]*39 , node:[1]*(105+39)}), \n",
    "                   pd.DataFrame(data={'Heart Disease': [1]*34 +  [0]*125 , node:[0]*(34+125)})])\n",
    "\n",
    "data_chest_pains.groupby(node)['Heart Disease'].value_counts().unstack()"
   ]
  },
  {
   "cell_type": "markdown",
   "metadata": {},
   "source": [
    "**Calculate Cross Tabulation table.**"
   ]
  },
  {
   "cell_type": "code",
   "execution_count": 277,
   "metadata": {},
   "outputs": [
    {
     "data": {
      "text/html": [
       "<div>\n",
       "<style scoped>\n",
       "    .dataframe tbody tr th:only-of-type {\n",
       "        vertical-align: middle;\n",
       "    }\n",
       "\n",
       "    .dataframe tbody tr th {\n",
       "        vertical-align: top;\n",
       "    }\n",
       "\n",
       "    .dataframe thead th {\n",
       "        text-align: right;\n",
       "    }\n",
       "</style>\n",
       "<table border=\"1\" class=\"dataframe\">\n",
       "  <thead>\n",
       "    <tr style=\"text-align: right;\">\n",
       "      <th>Heart Disease</th>\n",
       "      <th>0</th>\n",
       "      <th>1</th>\n",
       "      <th>Totals</th>\n",
       "    </tr>\n",
       "    <tr>\n",
       "      <th>Chest Pains</th>\n",
       "      <th></th>\n",
       "      <th></th>\n",
       "      <th></th>\n",
       "    </tr>\n",
       "  </thead>\n",
       "  <tbody>\n",
       "    <tr>\n",
       "      <th>0</th>\n",
       "      <td>125</td>\n",
       "      <td>34</td>\n",
       "      <td>159</td>\n",
       "    </tr>\n",
       "    <tr>\n",
       "      <th>1</th>\n",
       "      <td>39</td>\n",
       "      <td>105</td>\n",
       "      <td>144</td>\n",
       "    </tr>\n",
       "  </tbody>\n",
       "</table>\n",
       "</div>"
      ],
      "text/plain": [
       "Heart Disease    0    1  Totals\n",
       "Chest Pains                    \n",
       "0              125   34     159\n",
       "1               39  105     144"
      ]
     },
     "execution_count": 277,
     "metadata": {},
     "output_type": "execute_result"
    }
   ],
   "source": [
    "crosstab = (pd.crosstab(data_chest_pains[node], data_chest_pains['Heart Disease'], margins=True, margins_name='Totals')\n",
    "             .drop('Totals', axis=0)\n",
    "            )\n",
    "crosstab"
   ]
  },
  {
   "cell_type": "markdown",
   "metadata": {},
   "source": [
    "**Calculate the probability for each row.**"
   ]
  },
  {
   "cell_type": "code",
   "execution_count": 278,
   "metadata": {},
   "outputs": [
    {
     "data": {
      "text/html": [
       "<div>\n",
       "<style scoped>\n",
       "    .dataframe tbody tr th:only-of-type {\n",
       "        vertical-align: middle;\n",
       "    }\n",
       "\n",
       "    .dataframe tbody tr th {\n",
       "        vertical-align: top;\n",
       "    }\n",
       "\n",
       "    .dataframe thead th {\n",
       "        text-align: right;\n",
       "    }\n",
       "</style>\n",
       "<table border=\"1\" class=\"dataframe\">\n",
       "  <thead>\n",
       "    <tr style=\"text-align: right;\">\n",
       "      <th>Heart Disease</th>\n",
       "      <th>0</th>\n",
       "      <th>1</th>\n",
       "      <th>Totals</th>\n",
       "    </tr>\n",
       "    <tr>\n",
       "      <th>Chest Pains</th>\n",
       "      <th></th>\n",
       "      <th></th>\n",
       "      <th></th>\n",
       "    </tr>\n",
       "  </thead>\n",
       "  <tbody>\n",
       "    <tr>\n",
       "      <th>0</th>\n",
       "      <td>0.786164</td>\n",
       "      <td>0.213836</td>\n",
       "      <td>159</td>\n",
       "    </tr>\n",
       "    <tr>\n",
       "      <th>1</th>\n",
       "      <td>0.270833</td>\n",
       "      <td>0.729167</td>\n",
       "      <td>144</td>\n",
       "    </tr>\n",
       "  </tbody>\n",
       "</table>\n",
       "</div>"
      ],
      "text/plain": [
       "Heart Disease         0         1  Totals\n",
       "Chest Pains                              \n",
       "0              0.786164  0.213836     159\n",
       "1              0.270833  0.729167     144"
      ]
     },
     "execution_count": 278,
     "metadata": {},
     "output_type": "execute_result"
    }
   ],
   "source": [
    "gi_cp = crosstab.copy()\n",
    "gi_cp[[0, 1]] = gi_cp[[0, 1]].divide(gi_cp['Totals'], axis=0)\n",
    "\n",
    "gi_cp"
   ]
  },
  {
   "cell_type": "markdown",
   "metadata": {},
   "source": [
    "**Calculate the Gini Impurity for each Row**"
   ]
  },
  {
   "cell_type": "code",
   "execution_count": 279,
   "metadata": {},
   "outputs": [
    {
     "data": {
      "text/html": [
       "<div>\n",
       "<style scoped>\n",
       "    .dataframe tbody tr th:only-of-type {\n",
       "        vertical-align: middle;\n",
       "    }\n",
       "\n",
       "    .dataframe tbody tr th {\n",
       "        vertical-align: top;\n",
       "    }\n",
       "\n",
       "    .dataframe thead th {\n",
       "        text-align: right;\n",
       "    }\n",
       "</style>\n",
       "<table border=\"1\" class=\"dataframe\">\n",
       "  <thead>\n",
       "    <tr style=\"text-align: right;\">\n",
       "      <th>Heart Disease</th>\n",
       "      <th>0</th>\n",
       "      <th>1</th>\n",
       "      <th>Totals</th>\n",
       "      <th>Gini_Impurity</th>\n",
       "    </tr>\n",
       "    <tr>\n",
       "      <th>Chest Pains</th>\n",
       "      <th></th>\n",
       "      <th></th>\n",
       "      <th></th>\n",
       "      <th></th>\n",
       "    </tr>\n",
       "  </thead>\n",
       "  <tbody>\n",
       "    <tr>\n",
       "      <th>0</th>\n",
       "      <td>0.786164</td>\n",
       "      <td>0.213836</td>\n",
       "      <td>159</td>\n",
       "      <td>0.336221</td>\n",
       "    </tr>\n",
       "    <tr>\n",
       "      <th>1</th>\n",
       "      <td>0.270833</td>\n",
       "      <td>0.729167</td>\n",
       "      <td>144</td>\n",
       "      <td>0.394965</td>\n",
       "    </tr>\n",
       "  </tbody>\n",
       "</table>\n",
       "</div>"
      ],
      "text/plain": [
       "Heart Disease         0         1  Totals  Gini_Impurity\n",
       "Chest Pains                                             \n",
       "0              0.786164  0.213836     159       0.336221\n",
       "1              0.270833  0.729167     144       0.394965"
      ]
     },
     "execution_count": 279,
     "metadata": {},
     "output_type": "execute_result"
    }
   ],
   "source": [
    "gi_cp['Gini_Impurity'] = gi_cp[0]*(1-gi_cp[0]) + gi_cp[1]*(1-gi_cp[1])\n",
    "gi_cp"
   ]
  },
  {
   "cell_type": "markdown",
   "metadata": {},
   "source": [
    "**Calculate the Weighted Gini Impurity for the Chest Pain Node**"
   ]
  },
  {
   "cell_type": "code",
   "execution_count": 280,
   "metadata": {},
   "outputs": [
    {
     "data": {
      "text/html": [
       "<div>\n",
       "<style scoped>\n",
       "    .dataframe tbody tr th:only-of-type {\n",
       "        vertical-align: middle;\n",
       "    }\n",
       "\n",
       "    .dataframe tbody tr th {\n",
       "        vertical-align: top;\n",
       "    }\n",
       "\n",
       "    .dataframe thead th {\n",
       "        text-align: right;\n",
       "    }\n",
       "</style>\n",
       "<table border=\"1\" class=\"dataframe\">\n",
       "  <thead>\n",
       "    <tr style=\"text-align: right;\">\n",
       "      <th>Heart Disease</th>\n",
       "      <th>0</th>\n",
       "      <th>1</th>\n",
       "      <th>Totals</th>\n",
       "      <th>Gini_Impurity</th>\n",
       "      <th>Weight</th>\n",
       "    </tr>\n",
       "    <tr>\n",
       "      <th>Chest Pains</th>\n",
       "      <th></th>\n",
       "      <th></th>\n",
       "      <th></th>\n",
       "      <th></th>\n",
       "      <th></th>\n",
       "    </tr>\n",
       "  </thead>\n",
       "  <tbody>\n",
       "    <tr>\n",
       "      <th>0</th>\n",
       "      <td>0.786164</td>\n",
       "      <td>0.213836</td>\n",
       "      <td>159</td>\n",
       "      <td>0.336221</td>\n",
       "      <td>0.524752</td>\n",
       "    </tr>\n",
       "    <tr>\n",
       "      <th>1</th>\n",
       "      <td>0.270833</td>\n",
       "      <td>0.729167</td>\n",
       "      <td>144</td>\n",
       "      <td>0.394965</td>\n",
       "      <td>0.475248</td>\n",
       "    </tr>\n",
       "  </tbody>\n",
       "</table>\n",
       "</div>"
      ],
      "text/plain": [
       "Heart Disease         0         1  Totals  Gini_Impurity    Weight\n",
       "Chest Pains                                                       \n",
       "0              0.786164  0.213836     159       0.336221  0.524752\n",
       "1              0.270833  0.729167     144       0.394965  0.475248"
      ]
     },
     "execution_count": 280,
     "metadata": {},
     "output_type": "execute_result"
    }
   ],
   "source": [
    "gi_cp['Weight'] = gi_cp['Totals'] / gi_cp['Totals'].sum()\n",
    "gi_cp"
   ]
  },
  {
   "cell_type": "code",
   "execution_count": 281,
   "metadata": {},
   "outputs": [
    {
     "data": {
      "text/html": [
       "<div>\n",
       "<style scoped>\n",
       "    .dataframe tbody tr th:only-of-type {\n",
       "        vertical-align: middle;\n",
       "    }\n",
       "\n",
       "    .dataframe tbody tr th {\n",
       "        vertical-align: top;\n",
       "    }\n",
       "\n",
       "    .dataframe thead th {\n",
       "        text-align: right;\n",
       "    }\n",
       "</style>\n",
       "<table border=\"1\" class=\"dataframe\">\n",
       "  <thead>\n",
       "    <tr style=\"text-align: right;\">\n",
       "      <th>Heart Disease</th>\n",
       "      <th>0</th>\n",
       "      <th>1</th>\n",
       "      <th>Totals</th>\n",
       "      <th>Gini_Impurity</th>\n",
       "      <th>Weight</th>\n",
       "      <th>Weighted_Gini_Impurity</th>\n",
       "    </tr>\n",
       "    <tr>\n",
       "      <th>Chest Pains</th>\n",
       "      <th></th>\n",
       "      <th></th>\n",
       "      <th></th>\n",
       "      <th></th>\n",
       "      <th></th>\n",
       "      <th></th>\n",
       "    </tr>\n",
       "  </thead>\n",
       "  <tbody>\n",
       "    <tr>\n",
       "      <th>0</th>\n",
       "      <td>0.786164</td>\n",
       "      <td>0.213836</td>\n",
       "      <td>159</td>\n",
       "      <td>0.336221</td>\n",
       "      <td>0.524752</td>\n",
       "      <td>0.176433</td>\n",
       "    </tr>\n",
       "    <tr>\n",
       "      <th>1</th>\n",
       "      <td>0.270833</td>\n",
       "      <td>0.729167</td>\n",
       "      <td>144</td>\n",
       "      <td>0.394965</td>\n",
       "      <td>0.475248</td>\n",
       "      <td>0.187706</td>\n",
       "    </tr>\n",
       "  </tbody>\n",
       "</table>\n",
       "</div>"
      ],
      "text/plain": [
       "Heart Disease         0         1  Totals  Gini_Impurity    Weight  \\\n",
       "Chest Pains                                                          \n",
       "0              0.786164  0.213836     159       0.336221  0.524752   \n",
       "1              0.270833  0.729167     144       0.394965  0.475248   \n",
       "\n",
       "Heart Disease  Weighted_Gini_Impurity  \n",
       "Chest Pains                            \n",
       "0                            0.176433  \n",
       "1                            0.187706  "
      ]
     },
     "execution_count": 281,
     "metadata": {},
     "output_type": "execute_result"
    },
    {
     "data": {
      "text/plain": [
       "0.364"
      ]
     },
     "execution_count": 281,
     "metadata": {},
     "output_type": "execute_result"
    }
   ],
   "source": [
    "gi_cp['Weighted_Gini_Impurity'] = gi_cp['Gini_Impurity'] * gi_cp['Weight']\n",
    "gi_cp\n",
    "\n",
    "gi_cp['Weighted_Gini_Impurity'].sum(axis=0).round(3)"
   ]
  },
  {
   "cell_type": "markdown",
   "metadata": {},
   "source": [
    "# Entropy for Chest Pains"
   ]
  },
  {
   "cell_type": "markdown",
   "metadata": {},
   "source": [
    "**Calculate the Entropy for each Row**"
   ]
  },
  {
   "cell_type": "code",
   "execution_count": 325,
   "metadata": {},
   "outputs": [
    {
     "data": {
      "text/html": [
       "<div>\n",
       "<style scoped>\n",
       "    .dataframe tbody tr th:only-of-type {\n",
       "        vertical-align: middle;\n",
       "    }\n",
       "\n",
       "    .dataframe tbody tr th {\n",
       "        vertical-align: top;\n",
       "    }\n",
       "\n",
       "    .dataframe thead th {\n",
       "        text-align: right;\n",
       "    }\n",
       "</style>\n",
       "<table border=\"1\" class=\"dataframe\">\n",
       "  <thead>\n",
       "    <tr style=\"text-align: right;\">\n",
       "      <th>Heart Disease</th>\n",
       "      <th>0</th>\n",
       "      <th>1</th>\n",
       "      <th>Totals</th>\n",
       "      <th>Gini_Impurity</th>\n",
       "      <th>Weight</th>\n",
       "      <th>Weighted_Gini_Impurity</th>\n",
       "      <th>Entropy</th>\n",
       "      <th>Weighted_Entropy</th>\n",
       "    </tr>\n",
       "    <tr>\n",
       "      <th>Chest Pains</th>\n",
       "      <th></th>\n",
       "      <th></th>\n",
       "      <th></th>\n",
       "      <th></th>\n",
       "      <th></th>\n",
       "      <th></th>\n",
       "      <th></th>\n",
       "      <th></th>\n",
       "    </tr>\n",
       "  </thead>\n",
       "  <tbody>\n",
       "    <tr>\n",
       "      <th>0</th>\n",
       "      <td>0.786164</td>\n",
       "      <td>0.213836</td>\n",
       "      <td>159</td>\n",
       "      <td>0.336221</td>\n",
       "      <td>0.524752</td>\n",
       "      <td>0.176433</td>\n",
       "      <td>0.518996</td>\n",
       "      <td>-0.272344</td>\n",
       "    </tr>\n",
       "    <tr>\n",
       "      <th>1</th>\n",
       "      <td>0.270833</td>\n",
       "      <td>0.729167</td>\n",
       "      <td>144</td>\n",
       "      <td>0.394965</td>\n",
       "      <td>0.475248</td>\n",
       "      <td>0.187706</td>\n",
       "      <td>0.584086</td>\n",
       "      <td>-0.277585</td>\n",
       "    </tr>\n",
       "  </tbody>\n",
       "</table>\n",
       "</div>"
      ],
      "text/plain": [
       "Heart Disease         0         1  Totals  Gini_Impurity    Weight  \\\n",
       "Chest Pains                                                          \n",
       "0              0.786164  0.213836     159       0.336221  0.524752   \n",
       "1              0.270833  0.729167     144       0.394965  0.475248   \n",
       "\n",
       "Heart Disease  Weighted_Gini_Impurity   Entropy  Weighted_Entropy  \n",
       "Chest Pains                                                        \n",
       "0                            0.176433  0.518996         -0.272344  \n",
       "1                            0.187706  0.584086         -0.277585  "
      ]
     },
     "execution_count": 325,
     "metadata": {},
     "output_type": "execute_result"
    }
   ],
   "source": [
    "gi_cp['Entropy'] = -gi_cp[0]*np.log(gi_cp[0]) + -gi_cp[1]*np.log(gi_cp[1])\n",
    "gi_cp"
   ]
  },
  {
   "cell_type": "code",
   "execution_count": 326,
   "metadata": {},
   "outputs": [
    {
     "data": {
      "text/html": [
       "<div>\n",
       "<style scoped>\n",
       "    .dataframe tbody tr th:only-of-type {\n",
       "        vertical-align: middle;\n",
       "    }\n",
       "\n",
       "    .dataframe tbody tr th {\n",
       "        vertical-align: top;\n",
       "    }\n",
       "\n",
       "    .dataframe thead th {\n",
       "        text-align: right;\n",
       "    }\n",
       "</style>\n",
       "<table border=\"1\" class=\"dataframe\">\n",
       "  <thead>\n",
       "    <tr style=\"text-align: right;\">\n",
       "      <th>Heart Disease</th>\n",
       "      <th>0</th>\n",
       "      <th>1</th>\n",
       "      <th>Totals</th>\n",
       "      <th>Gini_Impurity</th>\n",
       "      <th>Weight</th>\n",
       "      <th>Weighted_Gini_Impurity</th>\n",
       "      <th>Entropy</th>\n",
       "      <th>Weighted_Entropy</th>\n",
       "    </tr>\n",
       "    <tr>\n",
       "      <th>Chest Pains</th>\n",
       "      <th></th>\n",
       "      <th></th>\n",
       "      <th></th>\n",
       "      <th></th>\n",
       "      <th></th>\n",
       "      <th></th>\n",
       "      <th></th>\n",
       "      <th></th>\n",
       "    </tr>\n",
       "  </thead>\n",
       "  <tbody>\n",
       "    <tr>\n",
       "      <th>0</th>\n",
       "      <td>0.786164</td>\n",
       "      <td>0.213836</td>\n",
       "      <td>159</td>\n",
       "      <td>0.336221</td>\n",
       "      <td>0.524752</td>\n",
       "      <td>0.176433</td>\n",
       "      <td>0.518996</td>\n",
       "      <td>0.272344</td>\n",
       "    </tr>\n",
       "    <tr>\n",
       "      <th>1</th>\n",
       "      <td>0.270833</td>\n",
       "      <td>0.729167</td>\n",
       "      <td>144</td>\n",
       "      <td>0.394965</td>\n",
       "      <td>0.475248</td>\n",
       "      <td>0.187706</td>\n",
       "      <td>0.584086</td>\n",
       "      <td>0.277585</td>\n",
       "    </tr>\n",
       "  </tbody>\n",
       "</table>\n",
       "</div>"
      ],
      "text/plain": [
       "Heart Disease         0         1  Totals  Gini_Impurity    Weight  \\\n",
       "Chest Pains                                                          \n",
       "0              0.786164  0.213836     159       0.336221  0.524752   \n",
       "1              0.270833  0.729167     144       0.394965  0.475248   \n",
       "\n",
       "Heart Disease  Weighted_Gini_Impurity   Entropy  Weighted_Entropy  \n",
       "Chest Pains                                                        \n",
       "0                            0.176433  0.518996          0.272344  \n",
       "1                            0.187706  0.584086          0.277585  "
      ]
     },
     "execution_count": 326,
     "metadata": {},
     "output_type": "execute_result"
    },
    {
     "data": {
      "text/plain": [
       "0.55"
      ]
     },
     "execution_count": 326,
     "metadata": {},
     "output_type": "execute_result"
    }
   ],
   "source": [
    "gi_cp['Weighted_Entropy'] =  gi_cp['Weight']*gi_cp['Entropy']\n",
    "gi_cp\n",
    "\n",
    "gi_cp['Weighted_Entropy'].sum(axis=0).round(3)"
   ]
  },
  {
   "cell_type": "markdown",
   "metadata": {},
   "source": [
    "# Gini Impurity for Good Blood Circulation"
   ]
  },
  {
   "cell_type": "code",
   "execution_count": 285,
   "metadata": {},
   "outputs": [
    {
     "data": {
      "text/html": [
       "<div>\n",
       "<style scoped>\n",
       "    .dataframe tbody tr th:only-of-type {\n",
       "        vertical-align: middle;\n",
       "    }\n",
       "\n",
       "    .dataframe tbody tr th {\n",
       "        vertical-align: top;\n",
       "    }\n",
       "\n",
       "    .dataframe thead th {\n",
       "        text-align: right;\n",
       "    }\n",
       "</style>\n",
       "<table border=\"1\" class=\"dataframe\">\n",
       "  <thead>\n",
       "    <tr style=\"text-align: right;\">\n",
       "      <th>Heart Disease</th>\n",
       "      <th>0</th>\n",
       "      <th>1</th>\n",
       "    </tr>\n",
       "    <tr>\n",
       "      <th>Good Blood Circulation</th>\n",
       "      <th></th>\n",
       "      <th></th>\n",
       "    </tr>\n",
       "  </thead>\n",
       "  <tbody>\n",
       "    <tr>\n",
       "      <th>0</th>\n",
       "      <td>33</td>\n",
       "      <td>100</td>\n",
       "    </tr>\n",
       "    <tr>\n",
       "      <th>1</th>\n",
       "      <td>127</td>\n",
       "      <td>37</td>\n",
       "    </tr>\n",
       "  </tbody>\n",
       "</table>\n",
       "</div>"
      ],
      "text/plain": [
       "Heart Disease             0    1\n",
       "Good Blood Circulation          \n",
       "0                        33  100\n",
       "1                       127   37"
      ]
     },
     "execution_count": 285,
     "metadata": {},
     "output_type": "execute_result"
    }
   ],
   "source": [
    "node = 'Good Blood Circulation'\n",
    "\n",
    "data = pd.concat( [pd.DataFrame(data={'Heart Disease': [1]*37 + [0]*127 , node:[1]*(37+127)}), \n",
    "                   pd.DataFrame(data={'Heart Disease': [1]*100 +  [0]*33 , node:[0]*(100+33)})])\n",
    "\n",
    "data.groupby(node)['Heart Disease'].value_counts().unstack()"
   ]
  },
  {
   "cell_type": "markdown",
   "metadata": {},
   "source": [
    "**Calculate Cross Tabulation table.**"
   ]
  },
  {
   "cell_type": "code",
   "execution_count": 286,
   "metadata": {},
   "outputs": [
    {
     "data": {
      "text/html": [
       "<div>\n",
       "<style scoped>\n",
       "    .dataframe tbody tr th:only-of-type {\n",
       "        vertical-align: middle;\n",
       "    }\n",
       "\n",
       "    .dataframe tbody tr th {\n",
       "        vertical-align: top;\n",
       "    }\n",
       "\n",
       "    .dataframe thead th {\n",
       "        text-align: right;\n",
       "    }\n",
       "</style>\n",
       "<table border=\"1\" class=\"dataframe\">\n",
       "  <thead>\n",
       "    <tr style=\"text-align: right;\">\n",
       "      <th>Heart Disease</th>\n",
       "      <th>0</th>\n",
       "      <th>1</th>\n",
       "      <th>Totals</th>\n",
       "    </tr>\n",
       "    <tr>\n",
       "      <th>Good Blood Circulation</th>\n",
       "      <th></th>\n",
       "      <th></th>\n",
       "      <th></th>\n",
       "    </tr>\n",
       "  </thead>\n",
       "  <tbody>\n",
       "    <tr>\n",
       "      <th>0</th>\n",
       "      <td>33</td>\n",
       "      <td>100</td>\n",
       "      <td>133</td>\n",
       "    </tr>\n",
       "    <tr>\n",
       "      <th>1</th>\n",
       "      <td>127</td>\n",
       "      <td>37</td>\n",
       "      <td>164</td>\n",
       "    </tr>\n",
       "  </tbody>\n",
       "</table>\n",
       "</div>"
      ],
      "text/plain": [
       "Heart Disease             0    1  Totals\n",
       "Good Blood Circulation                  \n",
       "0                        33  100     133\n",
       "1                       127   37     164"
      ]
     },
     "execution_count": 286,
     "metadata": {},
     "output_type": "execute_result"
    }
   ],
   "source": [
    "crosstab = (pd.crosstab(data[node], data['Heart Disease'], margins=True, margins_name='Totals')\n",
    "             .drop('Totals', axis=0)\n",
    "            )\n",
    "crosstab"
   ]
  },
  {
   "cell_type": "markdown",
   "metadata": {},
   "source": [
    "**Calculate the probability for each row.**"
   ]
  },
  {
   "cell_type": "code",
   "execution_count": 291,
   "metadata": {},
   "outputs": [
    {
     "data": {
      "text/html": [
       "<div>\n",
       "<style scoped>\n",
       "    .dataframe tbody tr th:only-of-type {\n",
       "        vertical-align: middle;\n",
       "    }\n",
       "\n",
       "    .dataframe tbody tr th {\n",
       "        vertical-align: top;\n",
       "    }\n",
       "\n",
       "    .dataframe thead th {\n",
       "        text-align: right;\n",
       "    }\n",
       "</style>\n",
       "<table border=\"1\" class=\"dataframe\">\n",
       "  <thead>\n",
       "    <tr style=\"text-align: right;\">\n",
       "      <th>Heart Disease</th>\n",
       "      <th>0</th>\n",
       "      <th>1</th>\n",
       "      <th>Totals</th>\n",
       "    </tr>\n",
       "    <tr>\n",
       "      <th>Good Blood Circulation</th>\n",
       "      <th></th>\n",
       "      <th></th>\n",
       "      <th></th>\n",
       "    </tr>\n",
       "  </thead>\n",
       "  <tbody>\n",
       "    <tr>\n",
       "      <th>0</th>\n",
       "      <td>0.24812</td>\n",
       "      <td>0.75188</td>\n",
       "      <td>133</td>\n",
       "    </tr>\n",
       "    <tr>\n",
       "      <th>1</th>\n",
       "      <td>0.77439</td>\n",
       "      <td>0.22561</td>\n",
       "      <td>164</td>\n",
       "    </tr>\n",
       "  </tbody>\n",
       "</table>\n",
       "</div>"
      ],
      "text/plain": [
       "Heart Disease                 0        1  Totals\n",
       "Good Blood Circulation                          \n",
       "0                       0.24812  0.75188     133\n",
       "1                       0.77439  0.22561     164"
      ]
     },
     "execution_count": 291,
     "metadata": {},
     "output_type": "execute_result"
    }
   ],
   "source": [
    "gi_gbc = crosstab.copy()\n",
    "gi_gbc[[0, 1]] = gi_gbc[[0, 1]].divide(gi_gbc['Totals'], axis=0)\n",
    "\n",
    "gi_gbc"
   ]
  },
  {
   "cell_type": "markdown",
   "metadata": {},
   "source": [
    "**Calculate the Gini Impurity for each Row**"
   ]
  },
  {
   "cell_type": "code",
   "execution_count": 292,
   "metadata": {},
   "outputs": [
    {
     "data": {
      "text/html": [
       "<div>\n",
       "<style scoped>\n",
       "    .dataframe tbody tr th:only-of-type {\n",
       "        vertical-align: middle;\n",
       "    }\n",
       "\n",
       "    .dataframe tbody tr th {\n",
       "        vertical-align: top;\n",
       "    }\n",
       "\n",
       "    .dataframe thead th {\n",
       "        text-align: right;\n",
       "    }\n",
       "</style>\n",
       "<table border=\"1\" class=\"dataframe\">\n",
       "  <thead>\n",
       "    <tr style=\"text-align: right;\">\n",
       "      <th>Heart Disease</th>\n",
       "      <th>0</th>\n",
       "      <th>1</th>\n",
       "      <th>Totals</th>\n",
       "      <th>Gini_Impurity</th>\n",
       "    </tr>\n",
       "    <tr>\n",
       "      <th>Good Blood Circulation</th>\n",
       "      <th></th>\n",
       "      <th></th>\n",
       "      <th></th>\n",
       "      <th></th>\n",
       "    </tr>\n",
       "  </thead>\n",
       "  <tbody>\n",
       "    <tr>\n",
       "      <th>0</th>\n",
       "      <td>0.24812</td>\n",
       "      <td>0.75188</td>\n",
       "      <td>133</td>\n",
       "      <td>0.373113</td>\n",
       "    </tr>\n",
       "    <tr>\n",
       "      <th>1</th>\n",
       "      <td>0.77439</td>\n",
       "      <td>0.22561</td>\n",
       "      <td>164</td>\n",
       "      <td>0.349420</td>\n",
       "    </tr>\n",
       "  </tbody>\n",
       "</table>\n",
       "</div>"
      ],
      "text/plain": [
       "Heart Disease                 0        1  Totals  Gini_Impurity\n",
       "Good Blood Circulation                                         \n",
       "0                       0.24812  0.75188     133       0.373113\n",
       "1                       0.77439  0.22561     164       0.349420"
      ]
     },
     "execution_count": 292,
     "metadata": {},
     "output_type": "execute_result"
    }
   ],
   "source": [
    "gi_gbc['Gini_Impurity'] = gi_gbc[0]*(1-gi_gbc[0]) + gi_gbc[1]*(1-gi_gbc[1]) \n",
    "gi_gbc"
   ]
  },
  {
   "cell_type": "markdown",
   "metadata": {},
   "source": [
    "**Calculate the Weighted Gini Impurity for the Chest Pain Node**"
   ]
  },
  {
   "cell_type": "code",
   "execution_count": 293,
   "metadata": {},
   "outputs": [
    {
     "data": {
      "text/html": [
       "<div>\n",
       "<style scoped>\n",
       "    .dataframe tbody tr th:only-of-type {\n",
       "        vertical-align: middle;\n",
       "    }\n",
       "\n",
       "    .dataframe tbody tr th {\n",
       "        vertical-align: top;\n",
       "    }\n",
       "\n",
       "    .dataframe thead th {\n",
       "        text-align: right;\n",
       "    }\n",
       "</style>\n",
       "<table border=\"1\" class=\"dataframe\">\n",
       "  <thead>\n",
       "    <tr style=\"text-align: right;\">\n",
       "      <th>Heart Disease</th>\n",
       "      <th>0</th>\n",
       "      <th>1</th>\n",
       "      <th>Totals</th>\n",
       "      <th>Gini_Impurity</th>\n",
       "      <th>Weight</th>\n",
       "    </tr>\n",
       "    <tr>\n",
       "      <th>Good Blood Circulation</th>\n",
       "      <th></th>\n",
       "      <th></th>\n",
       "      <th></th>\n",
       "      <th></th>\n",
       "      <th></th>\n",
       "    </tr>\n",
       "  </thead>\n",
       "  <tbody>\n",
       "    <tr>\n",
       "      <th>0</th>\n",
       "      <td>0.24812</td>\n",
       "      <td>0.75188</td>\n",
       "      <td>133</td>\n",
       "      <td>0.373113</td>\n",
       "      <td>0.447811</td>\n",
       "    </tr>\n",
       "    <tr>\n",
       "      <th>1</th>\n",
       "      <td>0.77439</td>\n",
       "      <td>0.22561</td>\n",
       "      <td>164</td>\n",
       "      <td>0.349420</td>\n",
       "      <td>0.552189</td>\n",
       "    </tr>\n",
       "  </tbody>\n",
       "</table>\n",
       "</div>"
      ],
      "text/plain": [
       "Heart Disease                 0        1  Totals  Gini_Impurity    Weight\n",
       "Good Blood Circulation                                                   \n",
       "0                       0.24812  0.75188     133       0.373113  0.447811\n",
       "1                       0.77439  0.22561     164       0.349420  0.552189"
      ]
     },
     "execution_count": 293,
     "metadata": {},
     "output_type": "execute_result"
    }
   ],
   "source": [
    "gi_gbc['Weight'] = gi_gbc['Totals'] / gi_gbc['Totals'].sum()\n",
    "gi_gbc"
   ]
  },
  {
   "cell_type": "code",
   "execution_count": 294,
   "metadata": {},
   "outputs": [
    {
     "data": {
      "text/html": [
       "<div>\n",
       "<style scoped>\n",
       "    .dataframe tbody tr th:only-of-type {\n",
       "        vertical-align: middle;\n",
       "    }\n",
       "\n",
       "    .dataframe tbody tr th {\n",
       "        vertical-align: top;\n",
       "    }\n",
       "\n",
       "    .dataframe thead th {\n",
       "        text-align: right;\n",
       "    }\n",
       "</style>\n",
       "<table border=\"1\" class=\"dataframe\">\n",
       "  <thead>\n",
       "    <tr style=\"text-align: right;\">\n",
       "      <th>Heart Disease</th>\n",
       "      <th>0</th>\n",
       "      <th>1</th>\n",
       "      <th>Totals</th>\n",
       "      <th>Gini_Impurity</th>\n",
       "      <th>Weight</th>\n",
       "      <th>Weighted_Gini_Impurity</th>\n",
       "    </tr>\n",
       "    <tr>\n",
       "      <th>Good Blood Circulation</th>\n",
       "      <th></th>\n",
       "      <th></th>\n",
       "      <th></th>\n",
       "      <th></th>\n",
       "      <th></th>\n",
       "      <th></th>\n",
       "    </tr>\n",
       "  </thead>\n",
       "  <tbody>\n",
       "    <tr>\n",
       "      <th>0</th>\n",
       "      <td>0.24812</td>\n",
       "      <td>0.75188</td>\n",
       "      <td>133</td>\n",
       "      <td>0.373113</td>\n",
       "      <td>0.447811</td>\n",
       "      <td>0.167084</td>\n",
       "    </tr>\n",
       "    <tr>\n",
       "      <th>1</th>\n",
       "      <td>0.77439</td>\n",
       "      <td>0.22561</td>\n",
       "      <td>164</td>\n",
       "      <td>0.349420</td>\n",
       "      <td>0.552189</td>\n",
       "      <td>0.192946</td>\n",
       "    </tr>\n",
       "  </tbody>\n",
       "</table>\n",
       "</div>"
      ],
      "text/plain": [
       "Heart Disease                 0        1  Totals  Gini_Impurity    Weight  \\\n",
       "Good Blood Circulation                                                      \n",
       "0                       0.24812  0.75188     133       0.373113  0.447811   \n",
       "1                       0.77439  0.22561     164       0.349420  0.552189   \n",
       "\n",
       "Heart Disease           Weighted_Gini_Impurity  \n",
       "Good Blood Circulation                          \n",
       "0                                     0.167084  \n",
       "1                                     0.192946  "
      ]
     },
     "execution_count": 294,
     "metadata": {},
     "output_type": "execute_result"
    },
    {
     "data": {
      "text/plain": [
       "0.36"
      ]
     },
     "execution_count": 294,
     "metadata": {},
     "output_type": "execute_result"
    }
   ],
   "source": [
    "gi_gbc['Weighted_Gini_Impurity'] = gi_gbc['Gini_Impurity'] * gi_gbc['Weight']\n",
    "gi_gbc\n",
    "\n",
    "gi_gbc['Weighted_Gini_Impurity'].sum(axis=0).round(3)"
   ]
  },
  {
   "cell_type": "markdown",
   "metadata": {},
   "source": [
    "# Entropy for Good Blood Circulation"
   ]
  },
  {
   "cell_type": "markdown",
   "metadata": {},
   "source": [
    "**Calculate the Entropy for each Row**"
   ]
  },
  {
   "cell_type": "code",
   "execution_count": 323,
   "metadata": {},
   "outputs": [
    {
     "data": {
      "text/html": [
       "<div>\n",
       "<style scoped>\n",
       "    .dataframe tbody tr th:only-of-type {\n",
       "        vertical-align: middle;\n",
       "    }\n",
       "\n",
       "    .dataframe tbody tr th {\n",
       "        vertical-align: top;\n",
       "    }\n",
       "\n",
       "    .dataframe thead th {\n",
       "        text-align: right;\n",
       "    }\n",
       "</style>\n",
       "<table border=\"1\" class=\"dataframe\">\n",
       "  <thead>\n",
       "    <tr style=\"text-align: right;\">\n",
       "      <th>Heart Disease</th>\n",
       "      <th>0</th>\n",
       "      <th>1</th>\n",
       "      <th>Totals</th>\n",
       "      <th>Gini_Impurity</th>\n",
       "      <th>Weight</th>\n",
       "      <th>Weighted_Gini_Impurity</th>\n",
       "      <th>Entropy</th>\n",
       "      <th>Weighted_Entropy</th>\n",
       "    </tr>\n",
       "    <tr>\n",
       "      <th>Good Blood Circulation</th>\n",
       "      <th></th>\n",
       "      <th></th>\n",
       "      <th></th>\n",
       "      <th></th>\n",
       "      <th></th>\n",
       "      <th></th>\n",
       "      <th></th>\n",
       "      <th></th>\n",
       "    </tr>\n",
       "  </thead>\n",
       "  <tbody>\n",
       "    <tr>\n",
       "      <th>0</th>\n",
       "      <td>0.24812</td>\n",
       "      <td>0.75188</td>\n",
       "      <td>133</td>\n",
       "      <td>0.373113</td>\n",
       "      <td>0.447811</td>\n",
       "      <td>0.167084</td>\n",
       "      <td>0.560261</td>\n",
       "      <td>-0.250891</td>\n",
       "    </tr>\n",
       "    <tr>\n",
       "      <th>1</th>\n",
       "      <td>0.77439</td>\n",
       "      <td>0.22561</td>\n",
       "      <td>164</td>\n",
       "      <td>0.349420</td>\n",
       "      <td>0.552189</td>\n",
       "      <td>0.192946</td>\n",
       "      <td>0.533917</td>\n",
       "      <td>-0.294823</td>\n",
       "    </tr>\n",
       "  </tbody>\n",
       "</table>\n",
       "</div>"
      ],
      "text/plain": [
       "Heart Disease                 0        1  Totals  Gini_Impurity    Weight  \\\n",
       "Good Blood Circulation                                                      \n",
       "0                       0.24812  0.75188     133       0.373113  0.447811   \n",
       "1                       0.77439  0.22561     164       0.349420  0.552189   \n",
       "\n",
       "Heart Disease           Weighted_Gini_Impurity   Entropy  Weighted_Entropy  \n",
       "Good Blood Circulation                                                      \n",
       "0                                     0.167084  0.560261         -0.250891  \n",
       "1                                     0.192946  0.533917         -0.294823  "
      ]
     },
     "execution_count": 323,
     "metadata": {},
     "output_type": "execute_result"
    }
   ],
   "source": [
    "gi_gbc['Entropy'] = -gi_gbc[0]*np.log(gi_gbc[0]) + -gi_gbc[1]*np.log(gi_gbc[1])\n",
    "gi_gbc"
   ]
  },
  {
   "cell_type": "code",
   "execution_count": 324,
   "metadata": {},
   "outputs": [
    {
     "data": {
      "text/html": [
       "<div>\n",
       "<style scoped>\n",
       "    .dataframe tbody tr th:only-of-type {\n",
       "        vertical-align: middle;\n",
       "    }\n",
       "\n",
       "    .dataframe tbody tr th {\n",
       "        vertical-align: top;\n",
       "    }\n",
       "\n",
       "    .dataframe thead th {\n",
       "        text-align: right;\n",
       "    }\n",
       "</style>\n",
       "<table border=\"1\" class=\"dataframe\">\n",
       "  <thead>\n",
       "    <tr style=\"text-align: right;\">\n",
       "      <th>Heart Disease</th>\n",
       "      <th>0</th>\n",
       "      <th>1</th>\n",
       "      <th>Totals</th>\n",
       "      <th>Gini_Impurity</th>\n",
       "      <th>Weight</th>\n",
       "      <th>Weighted_Gini_Impurity</th>\n",
       "      <th>Entropy</th>\n",
       "      <th>Weighted_Entropy</th>\n",
       "    </tr>\n",
       "    <tr>\n",
       "      <th>Good Blood Circulation</th>\n",
       "      <th></th>\n",
       "      <th></th>\n",
       "      <th></th>\n",
       "      <th></th>\n",
       "      <th></th>\n",
       "      <th></th>\n",
       "      <th></th>\n",
       "      <th></th>\n",
       "    </tr>\n",
       "  </thead>\n",
       "  <tbody>\n",
       "    <tr>\n",
       "      <th>0</th>\n",
       "      <td>0.24812</td>\n",
       "      <td>0.75188</td>\n",
       "      <td>133</td>\n",
       "      <td>0.373113</td>\n",
       "      <td>0.447811</td>\n",
       "      <td>0.167084</td>\n",
       "      <td>0.560261</td>\n",
       "      <td>0.250891</td>\n",
       "    </tr>\n",
       "    <tr>\n",
       "      <th>1</th>\n",
       "      <td>0.77439</td>\n",
       "      <td>0.22561</td>\n",
       "      <td>164</td>\n",
       "      <td>0.349420</td>\n",
       "      <td>0.552189</td>\n",
       "      <td>0.192946</td>\n",
       "      <td>0.533917</td>\n",
       "      <td>0.294823</td>\n",
       "    </tr>\n",
       "  </tbody>\n",
       "</table>\n",
       "</div>"
      ],
      "text/plain": [
       "Heart Disease                 0        1  Totals  Gini_Impurity    Weight  \\\n",
       "Good Blood Circulation                                                      \n",
       "0                       0.24812  0.75188     133       0.373113  0.447811   \n",
       "1                       0.77439  0.22561     164       0.349420  0.552189   \n",
       "\n",
       "Heart Disease           Weighted_Gini_Impurity   Entropy  Weighted_Entropy  \n",
       "Good Blood Circulation                                                      \n",
       "0                                     0.167084  0.560261          0.250891  \n",
       "1                                     0.192946  0.533917          0.294823  "
      ]
     },
     "execution_count": 324,
     "metadata": {},
     "output_type": "execute_result"
    },
    {
     "data": {
      "text/plain": [
       "0.546"
      ]
     },
     "execution_count": 324,
     "metadata": {},
     "output_type": "execute_result"
    }
   ],
   "source": [
    "gi_gbc['Weighted_Entropy'] =  gi_gbc['Weight']*gi_gbc['Entropy']\n",
    "gi_gbc\n",
    "\n",
    "gi_gbc['Weighted_Entropy'].sum(axis=0).round(3)"
   ]
  },
  {
   "cell_type": "markdown",
   "metadata": {},
   "source": [
    "# Gini Impurity for Blocked Arteries"
   ]
  },
  {
   "cell_type": "markdown",
   "metadata": {},
   "source": [
    "**Create data to match StatQuest Example**"
   ]
  },
  {
   "cell_type": "code",
   "execution_count": 303,
   "metadata": {},
   "outputs": [
    {
     "data": {
      "text/html": [
       "<div>\n",
       "<style scoped>\n",
       "    .dataframe tbody tr th:only-of-type {\n",
       "        vertical-align: middle;\n",
       "    }\n",
       "\n",
       "    .dataframe tbody tr th {\n",
       "        vertical-align: top;\n",
       "    }\n",
       "\n",
       "    .dataframe thead th {\n",
       "        text-align: right;\n",
       "    }\n",
       "</style>\n",
       "<table border=\"1\" class=\"dataframe\">\n",
       "  <thead>\n",
       "    <tr style=\"text-align: right;\">\n",
       "      <th>Heart Disease</th>\n",
       "      <th>0</th>\n",
       "      <th>1</th>\n",
       "    </tr>\n",
       "    <tr>\n",
       "      <th>Blocked Arteries</th>\n",
       "      <th></th>\n",
       "      <th></th>\n",
       "    </tr>\n",
       "  </thead>\n",
       "  <tbody>\n",
       "    <tr>\n",
       "      <th>0</th>\n",
       "      <td>129</td>\n",
       "      <td>45</td>\n",
       "    </tr>\n",
       "    <tr>\n",
       "      <th>1</th>\n",
       "      <td>31</td>\n",
       "      <td>92</td>\n",
       "    </tr>\n",
       "  </tbody>\n",
       "</table>\n",
       "</div>"
      ],
      "text/plain": [
       "Heart Disease       0   1\n",
       "Blocked Arteries         \n",
       "0                 129  45\n",
       "1                  31  92"
      ]
     },
     "execution_count": 303,
     "metadata": {},
     "output_type": "execute_result"
    }
   ],
   "source": [
    "node = 'Blocked Arteries'\n",
    "\n",
    "data_blocked_arteries = pd.concat( [pd.DataFrame(data={'Heart Disease': [1]*92 + [0]*31 , node:[1]*(92+31)}), \n",
    "                        pd.DataFrame(data={'Heart Disease': [1]*45 +  [0]*129 , node:[0]*(45+129)})])\n",
    "\n",
    "data_blocked_arteries.groupby(node)['Heart Disease'].value_counts().unstack()"
   ]
  },
  {
   "cell_type": "markdown",
   "metadata": {},
   "source": [
    "**Calculate Cross Tabulation table.**"
   ]
  },
  {
   "cell_type": "code",
   "execution_count": 304,
   "metadata": {},
   "outputs": [
    {
     "data": {
      "text/html": [
       "<div>\n",
       "<style scoped>\n",
       "    .dataframe tbody tr th:only-of-type {\n",
       "        vertical-align: middle;\n",
       "    }\n",
       "\n",
       "    .dataframe tbody tr th {\n",
       "        vertical-align: top;\n",
       "    }\n",
       "\n",
       "    .dataframe thead th {\n",
       "        text-align: right;\n",
       "    }\n",
       "</style>\n",
       "<table border=\"1\" class=\"dataframe\">\n",
       "  <thead>\n",
       "    <tr style=\"text-align: right;\">\n",
       "      <th>Heart Disease</th>\n",
       "      <th>0</th>\n",
       "      <th>1</th>\n",
       "      <th>Totals</th>\n",
       "    </tr>\n",
       "    <tr>\n",
       "      <th>Blocked Arteries</th>\n",
       "      <th></th>\n",
       "      <th></th>\n",
       "      <th></th>\n",
       "    </tr>\n",
       "  </thead>\n",
       "  <tbody>\n",
       "    <tr>\n",
       "      <th>0</th>\n",
       "      <td>129</td>\n",
       "      <td>45</td>\n",
       "      <td>174</td>\n",
       "    </tr>\n",
       "    <tr>\n",
       "      <th>1</th>\n",
       "      <td>31</td>\n",
       "      <td>92</td>\n",
       "      <td>123</td>\n",
       "    </tr>\n",
       "  </tbody>\n",
       "</table>\n",
       "</div>"
      ],
      "text/plain": [
       "Heart Disease       0   1  Totals\n",
       "Blocked Arteries                 \n",
       "0                 129  45     174\n",
       "1                  31  92     123"
      ]
     },
     "execution_count": 304,
     "metadata": {},
     "output_type": "execute_result"
    }
   ],
   "source": [
    "crosstab = (pd.crosstab(data_blocked_arteries[node], data_blocked_arteries['Heart Disease'], margins=True, margins_name='Totals')\n",
    "             .drop('Totals', axis=0)\n",
    "            )\n",
    "crosstab"
   ]
  },
  {
   "cell_type": "markdown",
   "metadata": {},
   "source": [
    "**Calculate the probability for each row.**"
   ]
  },
  {
   "cell_type": "code",
   "execution_count": 305,
   "metadata": {},
   "outputs": [
    {
     "data": {
      "text/html": [
       "<div>\n",
       "<style scoped>\n",
       "    .dataframe tbody tr th:only-of-type {\n",
       "        vertical-align: middle;\n",
       "    }\n",
       "\n",
       "    .dataframe tbody tr th {\n",
       "        vertical-align: top;\n",
       "    }\n",
       "\n",
       "    .dataframe thead th {\n",
       "        text-align: right;\n",
       "    }\n",
       "</style>\n",
       "<table border=\"1\" class=\"dataframe\">\n",
       "  <thead>\n",
       "    <tr style=\"text-align: right;\">\n",
       "      <th>Heart Disease</th>\n",
       "      <th>0</th>\n",
       "      <th>1</th>\n",
       "      <th>Totals</th>\n",
       "    </tr>\n",
       "    <tr>\n",
       "      <th>Blocked Arteries</th>\n",
       "      <th></th>\n",
       "      <th></th>\n",
       "      <th></th>\n",
       "    </tr>\n",
       "  </thead>\n",
       "  <tbody>\n",
       "    <tr>\n",
       "      <th>0</th>\n",
       "      <td>0.741379</td>\n",
       "      <td>0.258621</td>\n",
       "      <td>174</td>\n",
       "    </tr>\n",
       "    <tr>\n",
       "      <th>1</th>\n",
       "      <td>0.252033</td>\n",
       "      <td>0.747967</td>\n",
       "      <td>123</td>\n",
       "    </tr>\n",
       "  </tbody>\n",
       "</table>\n",
       "</div>"
      ],
      "text/plain": [
       "Heart Disease            0         1  Totals\n",
       "Blocked Arteries                            \n",
       "0                 0.741379  0.258621     174\n",
       "1                 0.252033  0.747967     123"
      ]
     },
     "execution_count": 305,
     "metadata": {},
     "output_type": "execute_result"
    }
   ],
   "source": [
    "gi_ba = crosstab.copy()\n",
    "gi_ba[[0, 1]] = gi_ba[[0, 1]].divide(gi_ba['Totals'], axis=0)\n",
    "\n",
    "gi_ba"
   ]
  },
  {
   "cell_type": "markdown",
   "metadata": {},
   "source": [
    "**Calculate the Gini Impurity for each Row**"
   ]
  },
  {
   "cell_type": "code",
   "execution_count": 306,
   "metadata": {},
   "outputs": [
    {
     "data": {
      "text/html": [
       "<div>\n",
       "<style scoped>\n",
       "    .dataframe tbody tr th:only-of-type {\n",
       "        vertical-align: middle;\n",
       "    }\n",
       "\n",
       "    .dataframe tbody tr th {\n",
       "        vertical-align: top;\n",
       "    }\n",
       "\n",
       "    .dataframe thead th {\n",
       "        text-align: right;\n",
       "    }\n",
       "</style>\n",
       "<table border=\"1\" class=\"dataframe\">\n",
       "  <thead>\n",
       "    <tr style=\"text-align: right;\">\n",
       "      <th>Heart Disease</th>\n",
       "      <th>0</th>\n",
       "      <th>1</th>\n",
       "      <th>Totals</th>\n",
       "      <th>Gini_Impurity</th>\n",
       "    </tr>\n",
       "    <tr>\n",
       "      <th>Blocked Arteries</th>\n",
       "      <th></th>\n",
       "      <th></th>\n",
       "      <th></th>\n",
       "      <th></th>\n",
       "    </tr>\n",
       "  </thead>\n",
       "  <tbody>\n",
       "    <tr>\n",
       "      <th>0</th>\n",
       "      <td>0.741379</td>\n",
       "      <td>0.258621</td>\n",
       "      <td>174</td>\n",
       "      <td>0.383472</td>\n",
       "    </tr>\n",
       "    <tr>\n",
       "      <th>1</th>\n",
       "      <td>0.252033</td>\n",
       "      <td>0.747967</td>\n",
       "      <td>123</td>\n",
       "      <td>0.377024</td>\n",
       "    </tr>\n",
       "  </tbody>\n",
       "</table>\n",
       "</div>"
      ],
      "text/plain": [
       "Heart Disease            0         1  Totals  Gini_Impurity\n",
       "Blocked Arteries                                           \n",
       "0                 0.741379  0.258621     174       0.383472\n",
       "1                 0.252033  0.747967     123       0.377024"
      ]
     },
     "execution_count": 306,
     "metadata": {},
     "output_type": "execute_result"
    }
   ],
   "source": [
    "gi_ba['Gini_Impurity'] = gi_ba[0]*(1-gi_ba[0]) + gi_ba[1]*(1-gi_ba[1])\n",
    "gi_ba"
   ]
  },
  {
   "cell_type": "markdown",
   "metadata": {},
   "source": [
    "**Calculate the Weighted Gini Impurity for the Chest Pain Node**"
   ]
  },
  {
   "cell_type": "code",
   "execution_count": 307,
   "metadata": {},
   "outputs": [
    {
     "data": {
      "text/html": [
       "<div>\n",
       "<style scoped>\n",
       "    .dataframe tbody tr th:only-of-type {\n",
       "        vertical-align: middle;\n",
       "    }\n",
       "\n",
       "    .dataframe tbody tr th {\n",
       "        vertical-align: top;\n",
       "    }\n",
       "\n",
       "    .dataframe thead th {\n",
       "        text-align: right;\n",
       "    }\n",
       "</style>\n",
       "<table border=\"1\" class=\"dataframe\">\n",
       "  <thead>\n",
       "    <tr style=\"text-align: right;\">\n",
       "      <th>Heart Disease</th>\n",
       "      <th>0</th>\n",
       "      <th>1</th>\n",
       "      <th>Totals</th>\n",
       "      <th>Gini_Impurity</th>\n",
       "      <th>Weight</th>\n",
       "    </tr>\n",
       "    <tr>\n",
       "      <th>Blocked Arteries</th>\n",
       "      <th></th>\n",
       "      <th></th>\n",
       "      <th></th>\n",
       "      <th></th>\n",
       "      <th></th>\n",
       "    </tr>\n",
       "  </thead>\n",
       "  <tbody>\n",
       "    <tr>\n",
       "      <th>0</th>\n",
       "      <td>0.741379</td>\n",
       "      <td>0.258621</td>\n",
       "      <td>174</td>\n",
       "      <td>0.383472</td>\n",
       "      <td>0.585859</td>\n",
       "    </tr>\n",
       "    <tr>\n",
       "      <th>1</th>\n",
       "      <td>0.252033</td>\n",
       "      <td>0.747967</td>\n",
       "      <td>123</td>\n",
       "      <td>0.377024</td>\n",
       "      <td>0.414141</td>\n",
       "    </tr>\n",
       "  </tbody>\n",
       "</table>\n",
       "</div>"
      ],
      "text/plain": [
       "Heart Disease            0         1  Totals  Gini_Impurity    Weight\n",
       "Blocked Arteries                                                     \n",
       "0                 0.741379  0.258621     174       0.383472  0.585859\n",
       "1                 0.252033  0.747967     123       0.377024  0.414141"
      ]
     },
     "execution_count": 307,
     "metadata": {},
     "output_type": "execute_result"
    }
   ],
   "source": [
    "gi_ba['Weight'] = gi_ba['Totals'] / gi_ba['Totals'].sum()\n",
    "gi_ba"
   ]
  },
  {
   "cell_type": "code",
   "execution_count": 308,
   "metadata": {},
   "outputs": [
    {
     "data": {
      "text/html": [
       "<div>\n",
       "<style scoped>\n",
       "    .dataframe tbody tr th:only-of-type {\n",
       "        vertical-align: middle;\n",
       "    }\n",
       "\n",
       "    .dataframe tbody tr th {\n",
       "        vertical-align: top;\n",
       "    }\n",
       "\n",
       "    .dataframe thead th {\n",
       "        text-align: right;\n",
       "    }\n",
       "</style>\n",
       "<table border=\"1\" class=\"dataframe\">\n",
       "  <thead>\n",
       "    <tr style=\"text-align: right;\">\n",
       "      <th>Heart Disease</th>\n",
       "      <th>0</th>\n",
       "      <th>1</th>\n",
       "      <th>Totals</th>\n",
       "      <th>Gini_Impurity</th>\n",
       "      <th>Weight</th>\n",
       "      <th>Weighted_Gini_Impurity</th>\n",
       "    </tr>\n",
       "    <tr>\n",
       "      <th>Blocked Arteries</th>\n",
       "      <th></th>\n",
       "      <th></th>\n",
       "      <th></th>\n",
       "      <th></th>\n",
       "      <th></th>\n",
       "      <th></th>\n",
       "    </tr>\n",
       "  </thead>\n",
       "  <tbody>\n",
       "    <tr>\n",
       "      <th>0</th>\n",
       "      <td>0.741379</td>\n",
       "      <td>0.258621</td>\n",
       "      <td>174</td>\n",
       "      <td>0.383472</td>\n",
       "      <td>0.585859</td>\n",
       "      <td>0.224660</td>\n",
       "    </tr>\n",
       "    <tr>\n",
       "      <th>1</th>\n",
       "      <td>0.252033</td>\n",
       "      <td>0.747967</td>\n",
       "      <td>123</td>\n",
       "      <td>0.377024</td>\n",
       "      <td>0.414141</td>\n",
       "      <td>0.156141</td>\n",
       "    </tr>\n",
       "  </tbody>\n",
       "</table>\n",
       "</div>"
      ],
      "text/plain": [
       "Heart Disease            0         1  Totals  Gini_Impurity    Weight  \\\n",
       "Blocked Arteries                                                        \n",
       "0                 0.741379  0.258621     174       0.383472  0.585859   \n",
       "1                 0.252033  0.747967     123       0.377024  0.414141   \n",
       "\n",
       "Heart Disease     Weighted_Gini_Impurity  \n",
       "Blocked Arteries                          \n",
       "0                               0.224660  \n",
       "1                               0.156141  "
      ]
     },
     "execution_count": 308,
     "metadata": {},
     "output_type": "execute_result"
    },
    {
     "data": {
      "text/plain": [
       "0.381"
      ]
     },
     "execution_count": 308,
     "metadata": {},
     "output_type": "execute_result"
    }
   ],
   "source": [
    "gi_ba['Weighted_Gini_Impurity'] = gi_ba['Gini_Impurity'] * gi_ba['Weight']\n",
    "gi_ba\n",
    "\n",
    "gi_ba['Weighted_Gini_Impurity'].sum(axis=0).round(3)"
   ]
  },
  {
   "cell_type": "markdown",
   "metadata": {},
   "source": [
    "# Entropy for Blocked Arteries"
   ]
  },
  {
   "cell_type": "markdown",
   "metadata": {},
   "source": [
    "**Calculate the Entropy for each Row**"
   ]
  },
  {
   "cell_type": "code",
   "execution_count": 317,
   "metadata": {},
   "outputs": [
    {
     "data": {
      "text/html": [
       "<div>\n",
       "<style scoped>\n",
       "    .dataframe tbody tr th:only-of-type {\n",
       "        vertical-align: middle;\n",
       "    }\n",
       "\n",
       "    .dataframe tbody tr th {\n",
       "        vertical-align: top;\n",
       "    }\n",
       "\n",
       "    .dataframe thead th {\n",
       "        text-align: right;\n",
       "    }\n",
       "</style>\n",
       "<table border=\"1\" class=\"dataframe\">\n",
       "  <thead>\n",
       "    <tr style=\"text-align: right;\">\n",
       "      <th>Heart Disease</th>\n",
       "      <th>0</th>\n",
       "      <th>1</th>\n",
       "      <th>Totals</th>\n",
       "      <th>Gini_Impurity</th>\n",
       "      <th>Weight</th>\n",
       "      <th>Weighted_Gini_Impurity</th>\n",
       "      <th>Entropy</th>\n",
       "      <th>Weighted_Entropy</th>\n",
       "    </tr>\n",
       "    <tr>\n",
       "      <th>Blocked Arteries</th>\n",
       "      <th></th>\n",
       "      <th></th>\n",
       "      <th></th>\n",
       "      <th></th>\n",
       "      <th></th>\n",
       "      <th></th>\n",
       "      <th></th>\n",
       "      <th></th>\n",
       "    </tr>\n",
       "  </thead>\n",
       "  <tbody>\n",
       "    <tr>\n",
       "      <th>0</th>\n",
       "      <td>0.741379</td>\n",
       "      <td>0.258621</td>\n",
       "      <td>174</td>\n",
       "      <td>0.383472</td>\n",
       "      <td>0.585859</td>\n",
       "      <td>0.224660</td>\n",
       "      <td>0.571609</td>\n",
       "      <td>0.334882</td>\n",
       "    </tr>\n",
       "    <tr>\n",
       "      <th>1</th>\n",
       "      <td>0.252033</td>\n",
       "      <td>0.747967</td>\n",
       "      <td>123</td>\n",
       "      <td>0.377024</td>\n",
       "      <td>0.414141</td>\n",
       "      <td>0.156141</td>\n",
       "      <td>0.564557</td>\n",
       "      <td>0.233806</td>\n",
       "    </tr>\n",
       "  </tbody>\n",
       "</table>\n",
       "</div>"
      ],
      "text/plain": [
       "Heart Disease            0         1  Totals  Gini_Impurity    Weight  \\\n",
       "Blocked Arteries                                                        \n",
       "0                 0.741379  0.258621     174       0.383472  0.585859   \n",
       "1                 0.252033  0.747967     123       0.377024  0.414141   \n",
       "\n",
       "Heart Disease     Weighted_Gini_Impurity   Entropy  Weighted_Entropy  \n",
       "Blocked Arteries                                                      \n",
       "0                               0.224660  0.571609          0.334882  \n",
       "1                               0.156141  0.564557          0.233806  "
      ]
     },
     "execution_count": 317,
     "metadata": {},
     "output_type": "execute_result"
    }
   ],
   "source": [
    "gi_ba['Entropy'] = -(gi_ba[0]*np.log(gi_ba[0])) + (-gi_ba[1]*np.log(gi_ba[1]))\n",
    "gi_ba"
   ]
  },
  {
   "cell_type": "code",
   "execution_count": 318,
   "metadata": {},
   "outputs": [
    {
     "data": {
      "text/html": [
       "<div>\n",
       "<style scoped>\n",
       "    .dataframe tbody tr th:only-of-type {\n",
       "        vertical-align: middle;\n",
       "    }\n",
       "\n",
       "    .dataframe tbody tr th {\n",
       "        vertical-align: top;\n",
       "    }\n",
       "\n",
       "    .dataframe thead th {\n",
       "        text-align: right;\n",
       "    }\n",
       "</style>\n",
       "<table border=\"1\" class=\"dataframe\">\n",
       "  <thead>\n",
       "    <tr style=\"text-align: right;\">\n",
       "      <th>Heart Disease</th>\n",
       "      <th>0</th>\n",
       "      <th>1</th>\n",
       "      <th>Totals</th>\n",
       "      <th>Gini_Impurity</th>\n",
       "      <th>Weight</th>\n",
       "      <th>Weighted_Gini_Impurity</th>\n",
       "      <th>Entropy</th>\n",
       "      <th>Weighted_Entropy</th>\n",
       "    </tr>\n",
       "    <tr>\n",
       "      <th>Blocked Arteries</th>\n",
       "      <th></th>\n",
       "      <th></th>\n",
       "      <th></th>\n",
       "      <th></th>\n",
       "      <th></th>\n",
       "      <th></th>\n",
       "      <th></th>\n",
       "      <th></th>\n",
       "    </tr>\n",
       "  </thead>\n",
       "  <tbody>\n",
       "    <tr>\n",
       "      <th>0</th>\n",
       "      <td>0.741379</td>\n",
       "      <td>0.258621</td>\n",
       "      <td>174</td>\n",
       "      <td>0.383472</td>\n",
       "      <td>0.585859</td>\n",
       "      <td>0.224660</td>\n",
       "      <td>0.571609</td>\n",
       "      <td>0.334882</td>\n",
       "    </tr>\n",
       "    <tr>\n",
       "      <th>1</th>\n",
       "      <td>0.252033</td>\n",
       "      <td>0.747967</td>\n",
       "      <td>123</td>\n",
       "      <td>0.377024</td>\n",
       "      <td>0.414141</td>\n",
       "      <td>0.156141</td>\n",
       "      <td>0.564557</td>\n",
       "      <td>0.233806</td>\n",
       "    </tr>\n",
       "  </tbody>\n",
       "</table>\n",
       "</div>"
      ],
      "text/plain": [
       "Heart Disease            0         1  Totals  Gini_Impurity    Weight  \\\n",
       "Blocked Arteries                                                        \n",
       "0                 0.741379  0.258621     174       0.383472  0.585859   \n",
       "1                 0.252033  0.747967     123       0.377024  0.414141   \n",
       "\n",
       "Heart Disease     Weighted_Gini_Impurity   Entropy  Weighted_Entropy  \n",
       "Blocked Arteries                                                      \n",
       "0                               0.224660  0.571609          0.334882  \n",
       "1                               0.156141  0.564557          0.233806  "
      ]
     },
     "execution_count": 318,
     "metadata": {},
     "output_type": "execute_result"
    },
    {
     "data": {
      "text/plain": [
       "0.569"
      ]
     },
     "execution_count": 318,
     "metadata": {},
     "output_type": "execute_result"
    }
   ],
   "source": [
    "gi_ba['Weighted_Entropy'] =  gi_ba['Weight']*gi_ba['Entropy']\n",
    "gi_ba\n",
    "\n",
    "gi_ba['Weighted_Entropy'].sum(axis=0).round(3)"
   ]
  },
  {
   "cell_type": "markdown",
   "metadata": {},
   "source": [
    "# Comparison"
   ]
  },
  {
   "cell_type": "markdown",
   "metadata": {},
   "source": [
    "Ideally, we want to chose the decision that minimizes the Gini Impurity (and Entropy).  In the above example, the Good Blood Circulation has the lowest Gini Impurity score of 0.36. "
   ]
  },
  {
   "cell_type": "code",
   "execution_count": 327,
   "metadata": {},
   "outputs": [
    {
     "data": {
      "text/plain": [
       "0.364"
      ]
     },
     "execution_count": 327,
     "metadata": {},
     "output_type": "execute_result"
    },
    {
     "data": {
      "text/plain": [
       "0.36"
      ]
     },
     "execution_count": 327,
     "metadata": {},
     "output_type": "execute_result"
    },
    {
     "data": {
      "text/plain": [
       "0.381"
      ]
     },
     "execution_count": 327,
     "metadata": {},
     "output_type": "execute_result"
    }
   ],
   "source": [
    "gi_cp['Weighted_Gini_Impurity'].sum(axis=0).round(3)\n",
    "gi_gbc['Weighted_Gini_Impurity'].sum(axis=0).round(3)\n",
    "gi_ba['Weighted_Gini_Impurity'].sum(axis=0).round(3)"
   ]
  },
  {
   "cell_type": "markdown",
   "metadata": {},
   "source": [
    "The cell below shows the comparison of the Entropy for each decision. We are interested in picking the decision that maximizes the information gain.  The information gain is equal to \n",
    "\n",
    "Information Gain(T,X) = Entropy(before decision) - Entropy(after decision)"
   ]
  },
  {
   "cell_type": "code",
   "execution_count": 329,
   "metadata": {},
   "outputs": [
    {
     "data": {
      "text/plain": [
       "0.55"
      ]
     },
     "execution_count": 329,
     "metadata": {},
     "output_type": "execute_result"
    },
    {
     "data": {
      "text/plain": [
       "0.546"
      ]
     },
     "execution_count": 329,
     "metadata": {},
     "output_type": "execute_result"
    },
    {
     "data": {
      "text/plain": [
       "0.569"
      ]
     },
     "execution_count": 329,
     "metadata": {},
     "output_type": "execute_result"
    }
   ],
   "source": [
    "gi_cp['Weighted_Entropy'].sum(axis=0).round(3)\n",
    "gi_gbc['Weighted_Entropy'].sum(axis=0).round(3)\n",
    "gi_ba['Weighted_Entropy'].sum(axis=0).round(3)"
   ]
  },
  {
   "cell_type": "code",
   "execution_count": null,
   "metadata": {},
   "outputs": [],
   "source": []
  }
 ],
 "metadata": {
  "kernelspec": {
   "display_name": "py38",
   "language": "python",
   "name": "py38"
  },
  "language_info": {
   "codemirror_mode": {
    "name": "ipython",
    "version": 3
   },
   "file_extension": ".py",
   "mimetype": "text/x-python",
   "name": "python",
   "nbconvert_exporter": "python",
   "pygments_lexer": "ipython3",
   "version": "3.8.3"
  }
 },
 "nbformat": 4,
 "nbformat_minor": 4
}
